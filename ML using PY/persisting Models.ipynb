{
 "cells": [
  {
   "cell_type": "code",
   "execution_count": 10,
   "id": "096e173d",
   "metadata": {},
   "outputs": [],
   "source": [
    "import pandas as pd \n",
    "from sklearn.tree import DecisionTreeClassifier\n",
    "import joblib\n",
    "music_data =pd.read_csv(\"music.csv\")\n",
    "X =music_data.drop(columns=[\"genre\"])\n",
    "y=music_data[\"genre\"]\n",
    "model = DecisionTreeClassifier()\n",
    "model.fit(X.values,y)\n",
    "joblib.dump(model,\"model-recommender.joblib\")\n",
    "predictions = model.predict([[21,1]])"
   ]
  },
  {
   "cell_type": "code",
   "execution_count": 35,
   "id": "a8c2d526",
   "metadata": {},
   "outputs": [
    {
     "data": {
      "text/plain": [
       "array(['HipHop'], dtype=object)"
      ]
     },
     "execution_count": 35,
     "metadata": {},
     "output_type": "execute_result"
    }
   ],
   "source": [
    "result = joblib.load(\"model-recommender.joblib\")\n",
    "predictions = result.predict([[21,1]])\n",
    "predictions"
   ]
  }
 ],
 "metadata": {
  "kernelspec": {
   "display_name": "Python 3 (ipykernel)",
   "language": "python",
   "name": "python3"
  },
  "language_info": {
   "codemirror_mode": {
    "name": "ipython",
    "version": 3
   },
   "file_extension": ".py",
   "mimetype": "text/x-python",
   "name": "python",
   "nbconvert_exporter": "python",
   "pygments_lexer": "ipython3",
   "version": "3.10.1"
  }
 },
 "nbformat": 4,
 "nbformat_minor": 5
}
